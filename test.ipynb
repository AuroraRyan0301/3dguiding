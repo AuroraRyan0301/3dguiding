{
 "cells": [
  {
   "cell_type": "code",
   "execution_count": 1,
   "metadata": {},
   "outputs": [],
   "source": [
    "import drjit as dr\n",
    "import mitsuba as mi\n",
    "mi.set_variant('cuda_ad_rgb', 'llvm_ad_rgb')"
   ]
  },
  {
   "cell_type": "code",
   "execution_count": 2,
   "metadata": {},
   "outputs": [],
   "source": [
    "# import matplotlib.pyplot as plt\n",
    "# def plot_list(images, title=None):\n",
    "#     fig, axs = plt.subplots(1, len(images), figsize=(18, 3))\n",
    "#     for i in range(len(images)):\n",
    "#         axs[i].imshow(mi.util.convert_to_bitmap(images[i]))\n",
    "#         axs[i].axis('off')\n",
    "#     if title is not None:\n",
    "#         plt.suptitle(title)"
   ]
  },
  {
   "cell_type": "code",
   "execution_count": 3,
   "metadata": {},
   "outputs": [],
   "source": [
    "# # Rendering resolution\n",
    "# render_res = 256\n",
    "\n",
    "\n",
    "# # Number of sensors\n",
    "# sensor_count = 7"
   ]
  },
  {
   "cell_type": "code",
   "execution_count": 4,
   "metadata": {},
   "outputs": [],
   "source": [
    "# sensors = []\n",
    "\n",
    "# for i in range(sensor_count):\n",
    "#     angle = 360.0 / sensor_count * i\n",
    "#     sensors.append(mi.load_dict({\n",
    "#         'type': 'perspective',\n",
    "#         'fov': 45,\n",
    "#         'to_world': mi.ScalarTransform4f.translate([0.5, 0.5, 0.5]) \\\n",
    "#                                         .rotate([0, 1, 0], angle)   \\\n",
    "#                                         .look_at(target=[0, 0, 0],\n",
    "#                                                  origin=[0, 0, 1.3],\n",
    "#                                                  up=[0, 1, 0]),\n",
    "#         'film': {\n",
    "#             'type': 'hdrfilm',\n",
    "#             'width': render_res,\n",
    "#             'height': render_res,\n",
    "#             'filter': {'type': 'box'},\n",
    "#             'pixel_format': 'rgba'\n",
    "#         }\n",
    "#     }))"
   ]
  },
  {
   "cell_type": "code",
   "execution_count": 5,
   "metadata": {},
   "outputs": [],
   "source": [
    "# scene_ref = mi.load_file('./scenes/lego/scene.xml')\n",
    "# ref_images = [mi.render(scene_ref, sensor=sensors[i], spp=64) for i in range(sensor_count)]\n",
    "# plot_list(ref_images, 'Reference images')"
   ]
  },
  {
   "cell_type": "code",
   "execution_count": 6,
   "metadata": {},
   "outputs": [],
   "source": [
    "from my_camera import OrthogonalCamera"
   ]
  },
  {
   "cell_type": "code",
   "execution_count": 7,
   "metadata": {},
   "outputs": [],
   "source": [
    "image_res = [256, 256]\n",
    "wavefront_size = image_res[0] * image_res[1]\n",
    "camera= OrthogonalCamera(cam_origin = mi.Vector3f(0, -1, 0),cam_dir=dr.normalize(mi.Vector3f(0, 1, 0)), image_res= image_res)"
   ]
  },
  {
   "cell_type": "code",
   "execution_count": 8,
   "metadata": {},
   "outputs": [],
   "source": [
    "rays = camera.spawn_image_rays()"
   ]
  },
  {
   "cell_type": "code",
   "execution_count": 9,
   "metadata": {},
   "outputs": [
    {
     "name": "stdout",
     "output_type": "stream",
     "text": [
      "registering integrator...\n"
     ]
    }
   ],
   "source": [
    "from my_integrator import *\n",
    "print(\"registering integrator...\")\n",
    "mi.register_integrator(\"nerf\", lambda props: RadianceFieldPRB(props))\n",
    "mi.register_integrator(\"mask_nerf\", lambda props: MaskNeRFPRB(props))"
   ]
  },
  {
   "cell_type": "code",
   "execution_count": 10,
   "metadata": {},
   "outputs": [],
   "source": [
    "scene = mi.load_dict({\n",
    "    'type': 'scene',\n",
    "    'integrator': {\n",
    "        'type': 'nerf'\n",
    "    },\n",
    "    'emitter': {\n",
    "        'type': 'constant'\n",
    "    }\n",
    "    })\n",
    "integrator = scene.integrator()"
   ]
  },
  {
   "cell_type": "code",
   "execution_count": 11,
   "metadata": {},
   "outputs": [],
   "source": [
    "sampler = mi.load_dict({'type' : 'independent',\n",
    "                        'sample_count': 1,})\n",
    "sampler.seed(0, wavefront_size=wavefront_size)"
   ]
  },
  {
   "cell_type": "code",
   "execution_count": 12,
   "metadata": {},
   "outputs": [
    {
     "data": {
      "text/plain": [
       "IndependentSampler[\n",
       "  base_seed = 0\n",
       "  sample_count = 1\n",
       "  samples_per_wavefront = 1\n",
       "  wavefront_size = 65536\n",
       "]"
      ]
     },
     "execution_count": 12,
     "metadata": {},
     "output_type": "execute_result"
    }
   ],
   "source": [
    "sampler"
   ]
  },
  {
   "cell_type": "code",
   "execution_count": 13,
   "metadata": {},
   "outputs": [],
   "source": [
    "## 65535 numpy array\n",
    "import numpy as np\n",
    "active = np.ones(wavefront_size, dtype=int)"
   ]
  },
  {
   "cell_type": "code",
   "execution_count": 14,
   "metadata": {},
   "outputs": [
    {
     "data": {
      "text/plain": [
       "array([1, 1, 1, ..., 1, 1, 1])"
      ]
     },
     "execution_count": 14,
     "metadata": {},
     "output_type": "execute_result"
    }
   ],
   "source": [
    "active"
   ]
  },
  {
   "cell_type": "code",
   "execution_count": 15,
   "metadata": {},
   "outputs": [],
   "source": [
    "active = mi.Bool(active)"
   ]
  },
  {
   "cell_type": "code",
   "execution_count": 16,
   "metadata": {},
   "outputs": [
    {
     "data": {
      "text/plain": [
       "[True, True, True, True, True, .. 65526 skipped .., True, True, True, True, True]"
      ]
     },
     "execution_count": 16,
     "metadata": {},
     "output_type": "execute_result"
    }
   ],
   "source": [
    "active"
   ]
  },
  {
   "cell_type": "code",
   "execution_count": 20,
   "metadata": {},
   "outputs": [
    {
     "name": "stdout",
     "output_type": "stream",
     "text": [
      "hit [False, False, False, False, False, .. 65526 skipped .., False, False, False, False, False]\n",
      "active [True, True, True, True, True, .. 65526 skipped .., True, True, True, True, True]\n"
     ]
    },
    {
     "ename": "Exception",
     "evalue": "loop_process_state(): one of the supplied loop state variables of type Float is attached to the AD graph (i.e., grad_enabled(..) is true). However, propagating derivatives through multiple iterations of a recorded loop is not supported (and never will be). Please see the documentation on differentiating loops for details and suggested alternatives.",
     "output_type": "error",
     "traceback": [
      "\u001b[0;31m---------------------------------------------------------------------------\u001b[0m",
      "\u001b[0;31mException\u001b[0m                                 Traceback (most recent call last)",
      "Cell \u001b[0;32mIn[20], line 6\u001b[0m\n\u001b[1;32m      3\u001b[0m params\u001b[38;5;241m.\u001b[39mupdate(opt)\n\u001b[1;32m      5\u001b[0m \u001b[38;5;28;01mfor\u001b[39;00m i \u001b[38;5;129;01min\u001b[39;00m \u001b[38;5;28mrange\u001b[39m(\u001b[38;5;241m10\u001b[39m):\n\u001b[0;32m----> 6\u001b[0m     img,_,_ \u001b[38;5;241m=\u001b[39m \u001b[43mintegrator\u001b[49m\u001b[38;5;241;43m.\u001b[39;49m\u001b[43msample\u001b[49m\u001b[43m(\u001b[49m\u001b[43mmode\u001b[49m\u001b[38;5;241;43m=\u001b[39;49m\u001b[43mdr\u001b[49m\u001b[38;5;241;43m.\u001b[39;49m\u001b[43mADMode\u001b[49m\u001b[38;5;241;43m.\u001b[39;49m\u001b[43mPrimal\u001b[49m\u001b[43m,\u001b[49m\u001b[43mscene\u001b[49m\u001b[38;5;241;43m=\u001b[39;49m\u001b[43mscene\u001b[49m\u001b[43m,\u001b[49m\u001b[43m \u001b[49m\u001b[43mray\u001b[49m\u001b[38;5;241;43m=\u001b[39;49m\u001b[43mrays\u001b[49m\u001b[43m,\u001b[49m\u001b[43m \u001b[49m\u001b[43msampler\u001b[49m\u001b[38;5;241;43m=\u001b[39;49m\u001b[43msampler\u001b[49m\u001b[43m,\u001b[49m\u001b[43m \u001b[49m\u001b[43mδL\u001b[49m\u001b[38;5;241;43m=\u001b[39;49m\u001b[38;5;28;43;01mNone\u001b[39;49;00m\u001b[43m,\u001b[49m\u001b[43m \u001b[49m\u001b[43mstate_in\u001b[49m\u001b[38;5;241;43m=\u001b[39;49m\u001b[38;5;28;43;01mNone\u001b[39;49;00m\u001b[43m,\u001b[49m\u001b[43m \u001b[49m\u001b[43mactive\u001b[49m\u001b[38;5;241;43m=\u001b[39;49m\u001b[43mactive\u001b[49m\u001b[43m)\u001b[49m\n",
      "File \u001b[0;32m~/git_repo/merlin/unbiased-inverse-volume-rendering/my_integrator.py:48\u001b[0m, in \u001b[0;36mRadianceFieldPRB.sample\u001b[0;34m(self, mode, scene, sampler, ray, δL, state_in, active, **kwargs)\u001b[0m\n\u001b[1;32m     44\u001b[0m β \u001b[38;5;241m=\u001b[39m mi\u001b[38;5;241m.\u001b[39mSpectrum(\u001b[38;5;241m1.0\u001b[39m) \u001b[38;5;66;03m# throughput\u001b[39;00m\n\u001b[1;32m     46\u001b[0m loop \u001b[38;5;241m=\u001b[39m mi\u001b[38;5;241m.\u001b[39mLoop(name\u001b[38;5;241m=\u001b[39m\u001b[38;5;124mf\u001b[39m\u001b[38;5;124m\"\u001b[39m\u001b[38;5;124mPRB (\u001b[39m\u001b[38;5;132;01m{\u001b[39;00mmode\u001b[38;5;241m.\u001b[39mname\u001b[38;5;132;01m}\u001b[39;00m\u001b[38;5;124m)\u001b[39m\u001b[38;5;124m\"\u001b[39m,\n\u001b[1;32m     47\u001b[0m                state\u001b[38;5;241m=\u001b[39m\u001b[38;5;28;01mlambda\u001b[39;00m: (sampler, ray, L, t, δL, β, active))\n\u001b[0;32m---> 48\u001b[0m \u001b[38;5;28;01mwhile\u001b[39;00m \u001b[43mloop\u001b[49m\u001b[43m(\u001b[49m\u001b[43mactive\u001b[49m\u001b[43m)\u001b[49m:\n\u001b[1;32m     49\u001b[0m     p \u001b[38;5;241m=\u001b[39m ray(t)\n\u001b[1;32m     50\u001b[0m     \u001b[38;5;28;01mwith\u001b[39;00m dr\u001b[38;5;241m.\u001b[39mresume_grad(when\u001b[38;5;241m=\u001b[39m\u001b[38;5;129;01mnot\u001b[39;00m primal):\n",
      "File \u001b[0;32m~/miniconda3/envs/mi3/lib/python3.8/site-packages/drjit/detail.py:585\u001b[0m, in \u001b[0;36mloop_process_state\u001b[0;34m(***failed resolving arguments***)\u001b[0m\n\u001b[1;32m    582\u001b[0m state\u001b[38;5;241m.\u001b[39mclear()\n\u001b[1;32m    584\u001b[0m \u001b[38;5;28;01mfor\u001b[39;00m func \u001b[38;5;129;01min\u001b[39;00m funcs:\n\u001b[0;32m--> 585\u001b[0m     \u001b[43m_loop_process_state\u001b[49m\u001b[43m(\u001b[49m\u001b[43mfunc\u001b[49m\u001b[43m(\u001b[49m\u001b[43m)\u001b[49m\u001b[43m,\u001b[49m\u001b[43m \u001b[49m\u001b[43mold_state\u001b[49m\u001b[43m,\u001b[49m\u001b[43m \u001b[49m\u001b[43mstate\u001b[49m\u001b[43m,\u001b[49m\u001b[43m \u001b[49m\u001b[43mwrite\u001b[49m\u001b[43m)\u001b[49m\n\u001b[1;32m    587\u001b[0m \u001b[38;5;28;01massert\u001b[39;00m old_state \u001b[38;5;129;01mis\u001b[39;00m \u001b[38;5;28;01mNone\u001b[39;00m \u001b[38;5;129;01mor\u001b[39;00m \u001b[38;5;28mlen\u001b[39m(old_state) \u001b[38;5;241m==\u001b[39m \u001b[38;5;241m0\u001b[39m\n",
      "File \u001b[0;32m~/miniconda3/envs/mi3/lib/python3.8/site-packages/drjit/detail.py:504\u001b[0m, in \u001b[0;36m_loop_process_state\u001b[0;34m(value, in_state, out_state, write, in_struct)\u001b[0m\n\u001b[1;32m    502\u001b[0m \u001b[38;5;28;01mif\u001b[39;00m \u001b[38;5;28missubclass\u001b[39m(t, \u001b[38;5;28mtuple\u001b[39m) \u001b[38;5;129;01mor\u001b[39;00m \u001b[38;5;28missubclass\u001b[39m(t, \u001b[38;5;28mlist\u001b[39m):\n\u001b[1;32m    503\u001b[0m     \u001b[38;5;28;01mfor\u001b[39;00m entry \u001b[38;5;129;01min\u001b[39;00m value:\n\u001b[0;32m--> 504\u001b[0m         \u001b[43m_loop_process_state\u001b[49m\u001b[43m(\u001b[49m\u001b[43mentry\u001b[49m\u001b[43m,\u001b[49m\u001b[43m \u001b[49m\u001b[43min_state\u001b[49m\u001b[43m,\u001b[49m\u001b[43m \u001b[49m\u001b[43mout_state\u001b[49m\u001b[43m,\u001b[49m\u001b[43m \u001b[49m\u001b[43mwrite\u001b[49m\u001b[43m,\u001b[49m\u001b[43m \u001b[49m\u001b[43min_struct\u001b[49m\u001b[43m)\u001b[49m\n\u001b[1;32m    505\u001b[0m     \u001b[38;5;28;01mreturn\u001b[39;00m\n\u001b[1;32m    507\u001b[0m \u001b[38;5;28;01mif\u001b[39;00m _dr\u001b[38;5;241m.\u001b[39mis_tensor_v(t):\n",
      "File \u001b[0;32m~/miniconda3/envs/mi3/lib/python3.8/site-packages/drjit/detail.py:512\u001b[0m, in \u001b[0;36m_loop_process_state\u001b[0;34m(value, in_state, out_state, write, in_struct)\u001b[0m\n\u001b[1;32m    510\u001b[0m \u001b[38;5;28;01mif\u001b[39;00m t\u001b[38;5;241m.\u001b[39mDepth \u001b[38;5;241m>\u001b[39m \u001b[38;5;241m1\u001b[39m:\n\u001b[1;32m    511\u001b[0m     \u001b[38;5;28;01mfor\u001b[39;00m i \u001b[38;5;129;01min\u001b[39;00m \u001b[38;5;28mrange\u001b[39m(\u001b[38;5;28mlen\u001b[39m(value)):\n\u001b[0;32m--> 512\u001b[0m         \u001b[43m_loop_process_state\u001b[49m\u001b[43m(\u001b[49m\u001b[43mvalue\u001b[49m\u001b[38;5;241;43m.\u001b[39;49m\u001b[43mentry_ref_\u001b[49m\u001b[43m(\u001b[49m\u001b[43mi\u001b[49m\u001b[43m)\u001b[49m\u001b[43m,\u001b[49m\u001b[43m \u001b[49m\u001b[43min_state\u001b[49m\u001b[43m,\u001b[49m\n\u001b[1;32m    513\u001b[0m \u001b[43m                            \u001b[49m\u001b[43mout_state\u001b[49m\u001b[43m,\u001b[49m\u001b[43m \u001b[49m\u001b[43mwrite\u001b[49m\u001b[43m,\u001b[49m\u001b[43m \u001b[49m\u001b[43min_struct\u001b[49m\u001b[43m)\u001b[49m\n\u001b[1;32m    514\u001b[0m \u001b[38;5;28;01melse\u001b[39;00m:\n\u001b[1;32m    515\u001b[0m     index \u001b[38;5;241m=\u001b[39m value\u001b[38;5;241m.\u001b[39mindex\n",
      "File \u001b[0;32m~/miniconda3/envs/mi3/lib/python3.8/site-packages/drjit/detail.py:519\u001b[0m, in \u001b[0;36m_loop_process_state\u001b[0;34m(value, in_state, out_state, write, in_struct)\u001b[0m\n\u001b[1;32m    516\u001b[0m index_ad \u001b[38;5;241m=\u001b[39m value\u001b[38;5;241m.\u001b[39mindex_ad \u001b[38;5;28;01mif\u001b[39;00m t\u001b[38;5;241m.\u001b[39mIsDiff \u001b[38;5;28;01melse\u001b[39;00m \u001b[38;5;241m0\u001b[39m\n\u001b[1;32m    518\u001b[0m \u001b[38;5;28;01mif\u001b[39;00m index_ad \u001b[38;5;241m!=\u001b[39m \u001b[38;5;241m0\u001b[39m \u001b[38;5;129;01mand\u001b[39;00m _dr\u001b[38;5;241m.\u001b[39mflag(_dr\u001b[38;5;241m.\u001b[39mJitFlag\u001b[38;5;241m.\u001b[39mLoopRecord):\n\u001b[0;32m--> 519\u001b[0m     \u001b[38;5;28;01mraise\u001b[39;00m _dr\u001b[38;5;241m.\u001b[39mException(\n\u001b[1;32m    520\u001b[0m         \u001b[38;5;124m\"\u001b[39m\u001b[38;5;124mloop_process_state(): one of the supplied loop state variables \u001b[39m\u001b[38;5;124m\"\u001b[39m\n\u001b[1;32m    521\u001b[0m         \u001b[38;5;124m\"\u001b[39m\u001b[38;5;124mof type \u001b[39m\u001b[38;5;132;01m%s\u001b[39;00m\u001b[38;5;124m is attached to the AD graph (i.e., grad_enabled(..) \u001b[39m\u001b[38;5;124m\"\u001b[39m\n\u001b[1;32m    522\u001b[0m         \u001b[38;5;124m\"\u001b[39m\u001b[38;5;124mis true). However, propagating derivatives through multiple \u001b[39m\u001b[38;5;124m\"\u001b[39m\n\u001b[1;32m    523\u001b[0m         \u001b[38;5;124m\"\u001b[39m\u001b[38;5;124miterations of a recorded loop is not supported (and never \u001b[39m\u001b[38;5;124m\"\u001b[39m\n\u001b[1;32m    524\u001b[0m         \u001b[38;5;124m\"\u001b[39m\u001b[38;5;124mwill be). Please see the documentation on differentiating loops \u001b[39m\u001b[38;5;124m\"\u001b[39m\n\u001b[1;32m    525\u001b[0m         \u001b[38;5;124m\"\u001b[39m\u001b[38;5;124mfor details and suggested alternatives.\u001b[39m\u001b[38;5;124m\"\u001b[39m \u001b[38;5;241m%\u001b[39m t\u001b[38;5;241m.\u001b[39m\u001b[38;5;18m__name__\u001b[39m)\n\u001b[1;32m    527\u001b[0m \u001b[38;5;28;01mif\u001b[39;00m index \u001b[38;5;241m==\u001b[39m \u001b[38;5;241m0\u001b[39m:\n\u001b[1;32m    528\u001b[0m     \u001b[38;5;28;01mraise\u001b[39;00m _dr\u001b[38;5;241m.\u001b[39mException(\n\u001b[1;32m    529\u001b[0m         \u001b[38;5;124m\"\u001b[39m\u001b[38;5;124mloop_process_state(): one of the supplied loop state \u001b[39m\u001b[38;5;124m\"\u001b[39m\n\u001b[1;32m    530\u001b[0m         \u001b[38;5;124m\"\u001b[39m\u001b[38;5;124mvariables of type \u001b[39m\u001b[38;5;132;01m%s\u001b[39;00m\u001b[38;5;124m is uninitialized!\u001b[39m\u001b[38;5;124m\"\u001b[39m \u001b[38;5;241m%\u001b[39m t\u001b[38;5;241m.\u001b[39m\u001b[38;5;18m__name__\u001b[39m)\n",
      "\u001b[0;31mException\u001b[0m: loop_process_state(): one of the supplied loop state variables of type Float is attached to the AD graph (i.e., grad_enabled(..) is true). However, propagating derivatives through multiple iterations of a recorded loop is not supported (and never will be). Please see the documentation on differentiating loops for details and suggested alternatives."
     ]
    }
   ],
   "source": [
    "params = mi.traverse(integrator)\n",
    "opt = mi.ad.Adam(lr=LR, params={'sigmat': params['sigmat'], 'sh_coeffs': params['sh_coeffs']})\n",
    "params.update(opt)\n",
    "\n",
    "for i in range(10):\n",
    "    img,_,_ = integrator.sample(mode=dr.ADMode.Primal,scene=scene, ray=rays, sampler=sampler, δL=None, state_in=None, active=active)"
   ]
  },
  {
   "cell_type": "code",
   "execution_count": 18,
   "metadata": {},
   "outputs": [],
   "source": [
    "gt = mi.TensorXf(np.ones((3,wavefront_size), dtype=np.float32))"
   ]
  },
  {
   "cell_type": "code",
   "execution_count": 19,
   "metadata": {},
   "outputs": [
    {
     "name": "stdout",
     "output_type": "stream",
     "text": [
      "training...\n",
      "Stage 01, feature voxel grids resolution -> 16\n",
      "hit [False, False, False, False, False, .. 65526 skipped .., False, False, False, False, False]\n",
      "active [True, True, True, True, True, .. 65526 skipped .., True, True, True, True, True]\n"
     ]
    },
    {
     "ename": "Exception",
     "evalue": "loop_process_state(): one of the supplied loop state variables of type Float is attached to the AD graph (i.e., grad_enabled(..) is true). However, propagating derivatives through multiple iterations of a recorded loop is not supported (and never will be). Please see the documentation on differentiating loops for details and suggested alternatives.",
     "output_type": "error",
     "traceback": [
      "\u001b[0;31m---------------------------------------------------------------------------\u001b[0m",
      "\u001b[0;31mException\u001b[0m                                 Traceback (most recent call last)",
      "Cell \u001b[0;32mIn[19], line 16\u001b[0m\n\u001b[1;32m     13\u001b[0m total_loss \u001b[38;5;241m=\u001b[39m \u001b[38;5;241m0.0\u001b[39m\n\u001b[1;32m     14\u001b[0m images \u001b[38;5;241m=\u001b[39m []\n\u001b[0;32m---> 16\u001b[0m img,_,_ \u001b[38;5;241m=\u001b[39m \u001b[43mintegrator\u001b[49m\u001b[38;5;241;43m.\u001b[39;49m\u001b[43msample\u001b[49m\u001b[43m(\u001b[49m\u001b[43mmode\u001b[49m\u001b[38;5;241;43m=\u001b[39;49m\u001b[43mdr\u001b[49m\u001b[38;5;241;43m.\u001b[39;49m\u001b[43mADMode\u001b[49m\u001b[38;5;241;43m.\u001b[39;49m\u001b[43mPrimal\u001b[49m\u001b[43m,\u001b[49m\u001b[43mscene\u001b[49m\u001b[38;5;241;43m=\u001b[39;49m\u001b[43mscene\u001b[49m\u001b[43m,\u001b[49m\u001b[43m \u001b[49m\u001b[43mray\u001b[49m\u001b[38;5;241;43m=\u001b[39;49m\u001b[43mrays\u001b[49m\u001b[43m,\u001b[49m\u001b[43m \u001b[49m\u001b[43msampler\u001b[49m\u001b[38;5;241;43m=\u001b[39;49m\u001b[43msampler\u001b[49m\u001b[43m,\u001b[49m\u001b[43m \u001b[49m\u001b[43mδL\u001b[49m\u001b[38;5;241;43m=\u001b[39;49m\u001b[38;5;28;43;01mNone\u001b[39;49;00m\u001b[43m,\u001b[49m\u001b[43m \u001b[49m\u001b[43mstate_in\u001b[49m\u001b[38;5;241;43m=\u001b[39;49m\u001b[38;5;28;43;01mNone\u001b[39;49;00m\u001b[43m,\u001b[49m\u001b[43m \u001b[49m\u001b[43mactive\u001b[49m\u001b[38;5;241;43m=\u001b[39;49m\u001b[43mactive\u001b[49m\u001b[43m)\u001b[49m\n\u001b[1;32m     17\u001b[0m loss \u001b[38;5;241m=\u001b[39m dr\u001b[38;5;241m.\u001b[39mmean(dr\u001b[38;5;241m.\u001b[39mabs(img \u001b[38;5;241m-\u001b[39m gt))\n\u001b[1;32m     18\u001b[0m dr\u001b[38;5;241m.\u001b[39mbackward(loss)\n",
      "File \u001b[0;32m~/git_repo/merlin/unbiased-inverse-volume-rendering/my_integrator.py:48\u001b[0m, in \u001b[0;36mRadianceFieldPRB.sample\u001b[0;34m(self, mode, scene, sampler, ray, δL, state_in, active, **kwargs)\u001b[0m\n\u001b[1;32m     44\u001b[0m β \u001b[38;5;241m=\u001b[39m mi\u001b[38;5;241m.\u001b[39mSpectrum(\u001b[38;5;241m1.0\u001b[39m) \u001b[38;5;66;03m# throughput\u001b[39;00m\n\u001b[1;32m     46\u001b[0m loop \u001b[38;5;241m=\u001b[39m mi\u001b[38;5;241m.\u001b[39mLoop(name\u001b[38;5;241m=\u001b[39m\u001b[38;5;124mf\u001b[39m\u001b[38;5;124m\"\u001b[39m\u001b[38;5;124mPRB (\u001b[39m\u001b[38;5;132;01m{\u001b[39;00mmode\u001b[38;5;241m.\u001b[39mname\u001b[38;5;132;01m}\u001b[39;00m\u001b[38;5;124m)\u001b[39m\u001b[38;5;124m\"\u001b[39m,\n\u001b[1;32m     47\u001b[0m                state\u001b[38;5;241m=\u001b[39m\u001b[38;5;28;01mlambda\u001b[39;00m: (sampler, ray, L, t, δL, β, active))\n\u001b[0;32m---> 48\u001b[0m \u001b[38;5;28;01mwhile\u001b[39;00m \u001b[43mloop\u001b[49m\u001b[43m(\u001b[49m\u001b[43mactive\u001b[49m\u001b[43m)\u001b[49m:\n\u001b[1;32m     49\u001b[0m     p \u001b[38;5;241m=\u001b[39m ray(t)\n\u001b[1;32m     50\u001b[0m     \u001b[38;5;28;01mwith\u001b[39;00m dr\u001b[38;5;241m.\u001b[39mresume_grad(when\u001b[38;5;241m=\u001b[39m\u001b[38;5;129;01mnot\u001b[39;00m primal):\n",
      "File \u001b[0;32m~/miniconda3/envs/mi3/lib/python3.8/site-packages/drjit/detail.py:585\u001b[0m, in \u001b[0;36mloop_process_state\u001b[0;34m(***failed resolving arguments***)\u001b[0m\n\u001b[1;32m    582\u001b[0m state\u001b[38;5;241m.\u001b[39mclear()\n\u001b[1;32m    584\u001b[0m \u001b[38;5;28;01mfor\u001b[39;00m func \u001b[38;5;129;01min\u001b[39;00m funcs:\n\u001b[0;32m--> 585\u001b[0m     \u001b[43m_loop_process_state\u001b[49m\u001b[43m(\u001b[49m\u001b[43mfunc\u001b[49m\u001b[43m(\u001b[49m\u001b[43m)\u001b[49m\u001b[43m,\u001b[49m\u001b[43m \u001b[49m\u001b[43mold_state\u001b[49m\u001b[43m,\u001b[49m\u001b[43m \u001b[49m\u001b[43mstate\u001b[49m\u001b[43m,\u001b[49m\u001b[43m \u001b[49m\u001b[43mwrite\u001b[49m\u001b[43m)\u001b[49m\n\u001b[1;32m    587\u001b[0m \u001b[38;5;28;01massert\u001b[39;00m old_state \u001b[38;5;129;01mis\u001b[39;00m \u001b[38;5;28;01mNone\u001b[39;00m \u001b[38;5;129;01mor\u001b[39;00m \u001b[38;5;28mlen\u001b[39m(old_state) \u001b[38;5;241m==\u001b[39m \u001b[38;5;241m0\u001b[39m\n",
      "File \u001b[0;32m~/miniconda3/envs/mi3/lib/python3.8/site-packages/drjit/detail.py:504\u001b[0m, in \u001b[0;36m_loop_process_state\u001b[0;34m(value, in_state, out_state, write, in_struct)\u001b[0m\n\u001b[1;32m    502\u001b[0m \u001b[38;5;28;01mif\u001b[39;00m \u001b[38;5;28missubclass\u001b[39m(t, \u001b[38;5;28mtuple\u001b[39m) \u001b[38;5;129;01mor\u001b[39;00m \u001b[38;5;28missubclass\u001b[39m(t, \u001b[38;5;28mlist\u001b[39m):\n\u001b[1;32m    503\u001b[0m     \u001b[38;5;28;01mfor\u001b[39;00m entry \u001b[38;5;129;01min\u001b[39;00m value:\n\u001b[0;32m--> 504\u001b[0m         \u001b[43m_loop_process_state\u001b[49m\u001b[43m(\u001b[49m\u001b[43mentry\u001b[49m\u001b[43m,\u001b[49m\u001b[43m \u001b[49m\u001b[43min_state\u001b[49m\u001b[43m,\u001b[49m\u001b[43m \u001b[49m\u001b[43mout_state\u001b[49m\u001b[43m,\u001b[49m\u001b[43m \u001b[49m\u001b[43mwrite\u001b[49m\u001b[43m,\u001b[49m\u001b[43m \u001b[49m\u001b[43min_struct\u001b[49m\u001b[43m)\u001b[49m\n\u001b[1;32m    505\u001b[0m     \u001b[38;5;28;01mreturn\u001b[39;00m\n\u001b[1;32m    507\u001b[0m \u001b[38;5;28;01mif\u001b[39;00m _dr\u001b[38;5;241m.\u001b[39mis_tensor_v(t):\n",
      "File \u001b[0;32m~/miniconda3/envs/mi3/lib/python3.8/site-packages/drjit/detail.py:512\u001b[0m, in \u001b[0;36m_loop_process_state\u001b[0;34m(value, in_state, out_state, write, in_struct)\u001b[0m\n\u001b[1;32m    510\u001b[0m \u001b[38;5;28;01mif\u001b[39;00m t\u001b[38;5;241m.\u001b[39mDepth \u001b[38;5;241m>\u001b[39m \u001b[38;5;241m1\u001b[39m:\n\u001b[1;32m    511\u001b[0m     \u001b[38;5;28;01mfor\u001b[39;00m i \u001b[38;5;129;01min\u001b[39;00m \u001b[38;5;28mrange\u001b[39m(\u001b[38;5;28mlen\u001b[39m(value)):\n\u001b[0;32m--> 512\u001b[0m         \u001b[43m_loop_process_state\u001b[49m\u001b[43m(\u001b[49m\u001b[43mvalue\u001b[49m\u001b[38;5;241;43m.\u001b[39;49m\u001b[43mentry_ref_\u001b[49m\u001b[43m(\u001b[49m\u001b[43mi\u001b[49m\u001b[43m)\u001b[49m\u001b[43m,\u001b[49m\u001b[43m \u001b[49m\u001b[43min_state\u001b[49m\u001b[43m,\u001b[49m\n\u001b[1;32m    513\u001b[0m \u001b[43m                            \u001b[49m\u001b[43mout_state\u001b[49m\u001b[43m,\u001b[49m\u001b[43m \u001b[49m\u001b[43mwrite\u001b[49m\u001b[43m,\u001b[49m\u001b[43m \u001b[49m\u001b[43min_struct\u001b[49m\u001b[43m)\u001b[49m\n\u001b[1;32m    514\u001b[0m \u001b[38;5;28;01melse\u001b[39;00m:\n\u001b[1;32m    515\u001b[0m     index \u001b[38;5;241m=\u001b[39m value\u001b[38;5;241m.\u001b[39mindex\n",
      "File \u001b[0;32m~/miniconda3/envs/mi3/lib/python3.8/site-packages/drjit/detail.py:519\u001b[0m, in \u001b[0;36m_loop_process_state\u001b[0;34m(value, in_state, out_state, write, in_struct)\u001b[0m\n\u001b[1;32m    516\u001b[0m index_ad \u001b[38;5;241m=\u001b[39m value\u001b[38;5;241m.\u001b[39mindex_ad \u001b[38;5;28;01mif\u001b[39;00m t\u001b[38;5;241m.\u001b[39mIsDiff \u001b[38;5;28;01melse\u001b[39;00m \u001b[38;5;241m0\u001b[39m\n\u001b[1;32m    518\u001b[0m \u001b[38;5;28;01mif\u001b[39;00m index_ad \u001b[38;5;241m!=\u001b[39m \u001b[38;5;241m0\u001b[39m \u001b[38;5;129;01mand\u001b[39;00m _dr\u001b[38;5;241m.\u001b[39mflag(_dr\u001b[38;5;241m.\u001b[39mJitFlag\u001b[38;5;241m.\u001b[39mLoopRecord):\n\u001b[0;32m--> 519\u001b[0m     \u001b[38;5;28;01mraise\u001b[39;00m _dr\u001b[38;5;241m.\u001b[39mException(\n\u001b[1;32m    520\u001b[0m         \u001b[38;5;124m\"\u001b[39m\u001b[38;5;124mloop_process_state(): one of the supplied loop state variables \u001b[39m\u001b[38;5;124m\"\u001b[39m\n\u001b[1;32m    521\u001b[0m         \u001b[38;5;124m\"\u001b[39m\u001b[38;5;124mof type \u001b[39m\u001b[38;5;132;01m%s\u001b[39;00m\u001b[38;5;124m is attached to the AD graph (i.e., grad_enabled(..) \u001b[39m\u001b[38;5;124m\"\u001b[39m\n\u001b[1;32m    522\u001b[0m         \u001b[38;5;124m\"\u001b[39m\u001b[38;5;124mis true). However, propagating derivatives through multiple \u001b[39m\u001b[38;5;124m\"\u001b[39m\n\u001b[1;32m    523\u001b[0m         \u001b[38;5;124m\"\u001b[39m\u001b[38;5;124miterations of a recorded loop is not supported (and never \u001b[39m\u001b[38;5;124m\"\u001b[39m\n\u001b[1;32m    524\u001b[0m         \u001b[38;5;124m\"\u001b[39m\u001b[38;5;124mwill be). Please see the documentation on differentiating loops \u001b[39m\u001b[38;5;124m\"\u001b[39m\n\u001b[1;32m    525\u001b[0m         \u001b[38;5;124m\"\u001b[39m\u001b[38;5;124mfor details and suggested alternatives.\u001b[39m\u001b[38;5;124m\"\u001b[39m \u001b[38;5;241m%\u001b[39m t\u001b[38;5;241m.\u001b[39m\u001b[38;5;18m__name__\u001b[39m)\n\u001b[1;32m    527\u001b[0m \u001b[38;5;28;01mif\u001b[39;00m index \u001b[38;5;241m==\u001b[39m \u001b[38;5;241m0\u001b[39m:\n\u001b[1;32m    528\u001b[0m     \u001b[38;5;28;01mraise\u001b[39;00m _dr\u001b[38;5;241m.\u001b[39mException(\n\u001b[1;32m    529\u001b[0m         \u001b[38;5;124m\"\u001b[39m\u001b[38;5;124mloop_process_state(): one of the supplied loop state \u001b[39m\u001b[38;5;124m\"\u001b[39m\n\u001b[1;32m    530\u001b[0m         \u001b[38;5;124m\"\u001b[39m\u001b[38;5;124mvariables of type \u001b[39m\u001b[38;5;132;01m%s\u001b[39;00m\u001b[38;5;124m is uninitialized!\u001b[39m\u001b[38;5;124m\"\u001b[39m \u001b[38;5;241m%\u001b[39m t\u001b[38;5;241m.\u001b[39m\u001b[38;5;18m__name__\u001b[39m)\n",
      "\u001b[0;31mException\u001b[0m: loop_process_state(): one of the supplied loop state variables of type Float is attached to the AD graph (i.e., grad_enabled(..) is true). However, propagating derivatives through multiple iterations of a recorded loop is not supported (and never will be). Please see the documentation on differentiating loops for details and suggested alternatives."
     ]
    }
   ],
   "source": [
    "print(\"training...\")\n",
    "params = mi.traverse(integrator)\n",
    "opt = mi.ad.Adam(lr=LR, params={'sigmat': params['sigmat'], 'sh_coeffs': params['sh_coeffs']})\n",
    "params.update(opt)\n",
    "\n",
    "losses = []\n",
    "intermediate_images = []\n",
    "\n",
    "for stage in range(NUM_STAGES):\n",
    "    print(f\"Stage {stage+1:02d}, feature voxel grids resolution -> {opt['sigmat'].shape[0]}\")\n",
    "\n",
    "    for it in range(NUM_iterations_per_stage):\n",
    "        total_loss = 0.0\n",
    "        images = []\n",
    "\n",
    "        img,_,_ = integrator.sample(mode=dr.ADMode.Primal,scene=scene, ray=rays, sampler=sampler, δL=None, state_in=None, active=active)\n",
    "        loss = dr.mean(dr.abs(img - gt))\n",
    "        dr.backward(loss)\n",
    "        total_loss += loss[0]\n",
    "\n",
    "        # Store images at the end of every stage\n",
    "        if it == NUM_iterations_per_stage- 1:\n",
    "            dr.eval(img)\n",
    "            images.append(img)\n",
    "\n",
    "        losses.append(total_loss)\n",
    "        print(\"loss: \", total_loss)\n",
    "        opt.step()\n",
    "\n",
    "        if not integrator.use_relu:\n",
    "            opt['sigmat'] = dr.maximum(opt['sigmat'], 0.0)\n",
    "\n",
    "        params.update(opt)\n",
    "        print(f\"  --> iteration {it+1:02d}: error={total_loss:6f}\", end='\\r')\n",
    "\n",
    "    intermediate_images.append(images)\n",
    "\n",
    "    # Upsample the 3D textures at every stage\n",
    "    if stage < NUM_STAGES - 1:\n",
    "        new_res = 2 * opt['sigmat'].shape[0]\n",
    "        new_shape = [new_res, new_res, new_res]\n",
    "        opt['sigmat']   = dr.upsample(opt['sigmat'],   new_shape)\n",
    "        opt['sh_coeffs'] = dr.upsample(opt['sh_coeffs'], new_shape)\n",
    "        params.update(opt)\n",
    "\n",
    "print('')\n",
    "print('Done')"
   ]
  }
 ],
 "metadata": {
  "kernelspec": {
   "display_name": "mi3",
   "language": "python",
   "name": "python3"
  },
  "language_info": {
   "codemirror_mode": {
    "name": "ipython",
    "version": 3
   },
   "file_extension": ".py",
   "mimetype": "text/x-python",
   "name": "python",
   "nbconvert_exporter": "python",
   "pygments_lexer": "ipython3",
   "version": "3.8.10"
  }
 },
 "nbformat": 4,
 "nbformat_minor": 2
}
